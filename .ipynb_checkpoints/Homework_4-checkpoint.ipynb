{
 "cells": [
  {
   "cell_type": "code",
   "execution_count": 299,
   "metadata": {},
   "outputs": [],
   "source": [
    "documents = [\n",
    " {'type': 'passport', 'number': '2207 876234', 'name': 'Василий Гупкин'},\n",
    " {'type': 'invoice', 'number': '11-2', 'name': 'Геннадий Покемонов'},\n",
    " {'type': 'insurance', 'number': '10006', 'name': 'Аристарх Павлов'}\n",
    "]\n",
    "directories = {\n",
    " '1': ['2207 876234', '11-2'],\n",
    " '2': ['10006'],\n",
    " '3': []\n",
    "}"
   ]
  },
  {
   "cell_type": "code",
   "execution_count": 66,
   "metadata": {},
   "outputs": [],
   "source": [
    "#узнать владельца документа по его номеру\n",
    "def func_p():\n",
    "    number = input('Введите номер документа: ')\n",
    "    j = 0 #Сделал счетчик, чтобы не выводить фразу 'Документ не найден' в цикле\n",
    "    for i in documents:\n",
    "        if i['number'] == number:\n",
    "            j += 1\n",
    "            print('Владелец документа:', i['name'])\n",
    "    if j == 0:\n",
    "        print('Документ не найден в базе')"
   ]
  },
  {
   "cell_type": "code",
   "execution_count": 6,
   "metadata": {},
   "outputs": [],
   "source": [
    "#по номеру документа узнать на какой полке он хранится\n",
    "def func_s():\n",
    "    number = input('Введите номер документа: ')\n",
    "    j = 0 #Сделал счетчик, чтобы не выводить фразу 'Документ не найден' в цикле\n",
    "    for shel, num in directories.items():\n",
    "        if number in num:\n",
    "            j += 1\n",
    "            print('Документ хранится на полке:', shel)\n",
    "    if j == 0:\n",
    "        print('Документ не найден в базе')"
   ]
  },
  {
   "cell_type": "code",
   "execution_count": 2,
   "metadata": {},
   "outputs": [],
   "source": [
    "#увидеть полную информацию по всем документам\n",
    "def func_l():\n",
    "    for i in documents:\n",
    "        for shel, num in directories.items():\n",
    "            if i['number'] in num:\n",
    "                print('№:', i['number'], ', тип:', i['type'], ', владелец:', i['name'], ', полка хранения:', shel)"
   ]
  },
  {
   "cell_type": "code",
   "execution_count": 289,
   "metadata": {},
   "outputs": [],
   "source": [
    "#добавить новую полку\n",
    "def func_ads():\n",
    "    shelter = input('Введите номер полки: ')\n",
    "    j = 0 #Сделал счетчик, чтобы не выводить фразу 'Документ не найден' в цикле\n",
    "    for shel, num in directories.items():\n",
    "        if shelter == shel:\n",
    "            j += 1\n",
    "            print('Такая полка уже существует. Текущий перечень полок:', shel)\n",
    "    if j == 0:\n",
    "        directories[shelter] = [] #Добавил новый ключ с пустым значением\n",
    "        print('Полка добавлена. Текущий перечень полок:', shel)  \n",
    "#Мой вывод отличается от 1, 2, 3 Как можно сделать по другому?"
   ]
  },
  {
   "cell_type": "code",
   "execution_count": 288,
   "metadata": {},
   "outputs": [],
   "source": [
    "#удалить существующую полку из данных (только если она пустая)\n",
    "def func_ds():\n",
    "    shelter = input('Введите номер полки: ')\n",
    "    j = 0 \n",
    "    for shel, num in directories.items():\n",
    "        if shelter == shel:\n",
    "            j += 1\n",
    "            if num == []:\n",
    "                del directories[shelter]\n",
    "                print('Полка удалена. Текущий перечень полок:', shel) \n",
    "                break #Если не прервать, выскакивает ошибка, т.к. изменился размер словаря\n",
    "            else:\n",
    "                print('На полке есть документы, удалите их перед удалением полки. Текущий перечень полок:', shel) \n",
    "    if j == 0:\n",
    "        print('Такой полки не существует. Текущий перечень полок:', shel) "
   ]
  },
  {
   "cell_type": "code",
   "execution_count": 249,
   "metadata": {},
   "outputs": [],
   "source": [
    "#добавить новый документ в данные\n",
    "def func_ad():\n",
    "    list_documents = []\n",
    "    dict_new = {}\n",
    "    type_1 = input('Введите тип документа: ')\n",
    "    dict_new['type'] = type_1\n",
    "    number = input('Введите номер документа: ')\n",
    "    dict_new['number'] = number\n",
    "    name = input('Введите владельца документа: ')\n",
    "    dict_new['name'] = name\n",
    "    shelter = input('Введите полку для хранения: ')\n",
    "    list_documents.append(dict_new)\n",
    "    documents.append(list_documents[0])\n",
    "    for shel, num in directories.items():\n",
    "        if shelter == shel:\n",
    "            num.append(number)\n",
    "    if shelter in directories.keys():\n",
    "        print()\n",
    "        print('Документ добавлен. Текущий список документов:')\n",
    "    else:\n",
    "        print()\n",
    "        print('Такой полки не существует. Добавьте полку командой as.')\n",
    "        print('Текущий список документов:')\n",
    "    func_l()"
   ]
  },
  {
   "cell_type": "code",
   "execution_count": 286,
   "metadata": {},
   "outputs": [],
   "source": [
    "#удалить документ из данных\n",
    "def func_d():\n",
    "    number = input('Введите номер документа: ')\n",
    "    j = 0\n",
    "    for i in documents:\n",
    "        if number == i['number']:\n",
    "            documents.remove(i)\n",
    "            j += 1\n",
    "            print('Документ удален.')\n",
    "            print('Текущий список документов:')\n",
    "            func_l()\n",
    "    for num in directories.values():\n",
    "        num.remove(number)\n",
    "        break\n",
    "    if j == 0:\n",
    "        print('Документ не найден в базе.')\n",
    "        print('Текущий список документов:')\n",
    "        func_l()"
   ]
  },
  {
   "cell_type": "code",
   "execution_count": 301,
   "metadata": {},
   "outputs": [],
   "source": [
    "#переместить документ с полки на полку\n",
    "def func_m():\n",
    "    number = input('Введите номер документа: ')\n",
    "    shelter = input('Введите номер полки: ')\n",
    "    j = 0\n",
    "    k = 0\n",
    "    for i in documents:\n",
    "        if number == i['number']:\n",
    "            j+= 1\n",
    "    for shel, num in directories.items():\n",
    "        if shelter in shel:\n",
    "            k += 1 \n",
    "    if j == 1 and k == 1:\n",
    "        for shel, num in directories.items():\n",
    "            num.remove(number)\n",
    "            break\n",
    "        for shel, num in directories.items():\n",
    "            if shelter == shel:\n",
    "                num.append(number)\n",
    "        print('Документ перемещен.')\n",
    "        print('Текущий список документов:')\n",
    "        func_l()\n",
    "    if j == 0:\n",
    "        print('Документ не найден в базе. ')\n",
    "        print('Текущий список документов:')\n",
    "        func_l()\n",
    "    elif k == 0:\n",
    "        print('Такой полки не существует. Текущий перечень полок:', list(directories.keys()))"
   ]
  },
  {
   "cell_type": "code",
   "execution_count": 306,
   "metadata": {},
   "outputs": [
    {
     "name": "stdout",
     "output_type": "stream",
     "text": [
      "Введите команду:dsd\n",
      "Неизвестная команда\n",
      "Введите команду:fdfdf\n",
      "Неизвестная команда\n",
      "Введите команду:q\n"
     ]
    }
   ],
   "source": [
    "while True:\n",
    "    func = input('Введите команду:').lower()\n",
    "    if func == 'p':\n",
    "        func_p()\n",
    "    elif func == 's':\n",
    "        func_s()\n",
    "    elif func == 'l':\n",
    "        func_l()   \n",
    "    elif func == 'ads':\n",
    "        func_ads()\n",
    "    elif func == 'ds':\n",
    "        func_ds()\n",
    "    elif func == 'ad':\n",
    "        func_ad()\n",
    "    elif func == 'd':\n",
    "        func_d()\n",
    "    elif func == 'm':\n",
    "        func_m()\n",
    "    elif func == 'q':\n",
    "         break\n",
    "    else: \n",
    "        print('Неизвестная команда')"
   ]
  }
 ],
 "metadata": {
  "kernelspec": {
   "display_name": "Python 3",
   "language": "python",
   "name": "python3"
  },
  "language_info": {
   "codemirror_mode": {
    "name": "ipython",
    "version": 3
   },
   "file_extension": ".py",
   "mimetype": "text/x-python",
   "name": "python",
   "nbconvert_exporter": "python",
   "pygments_lexer": "ipython3",
   "version": "3.8.5"
  }
 },
 "nbformat": 4,
 "nbformat_minor": 4
}
