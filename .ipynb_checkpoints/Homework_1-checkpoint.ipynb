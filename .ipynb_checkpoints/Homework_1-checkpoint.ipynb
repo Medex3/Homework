{
 "cells": [
  {
   "cell_type": "code",
   "execution_count": 3,
   "metadata": {},
   "outputs": [
    {
     "name": "stdout",
     "output_type": "stream",
     "text": [
      "Фразы равной длины\n"
     ]
    }
   ],
   "source": [
    "phrase_1 = 'Насколько проще было бы писать программы, если бы не заказчики' #Введем переменные с фразами, которые будем сравнивать\n",
    "phrase_2 = '640Кб должно хватить для любых задач. Билл Гейтс (по легенде)'\n",
    "if len(phrase_1) > len(phrase_2): #Условие №1\n",
    "    print('Фраза 1 длиннее фразы 2')\n",
    "elif len(phrase_1) < len(phrase_2):  #Условие №2\n",
    "    print('Фраза 2 длиннее фразы 1')\n",
    "else: #Т.к. фразы равны только, если первые два условия не выполняются, то просто указываем else\n",
    "    print('Фразы равной длины')"
   ]
  },
  {
   "cell_type": "code",
   "execution_count": 26,
   "metadata": {},
   "outputs": [
    {
     "name": "stdout",
     "output_type": "stream",
     "text": [
      "Обычный год\n"
     ]
    }
   ],
   "source": [
    "year = 1900\n",
    "if (year % 4 == 0 or year % 400 == 0) and not year % 100 == 0: #Условия высокостного года (из интернета)\n",
    "    print('Высокостный год')\n",
    "else:\n",
    "    print('Обычный год')"
   ]
  },
  {
   "cell_type": "code",
   "execution_count": 27,
   "metadata": {},
   "outputs": [
    {
     "name": "stdout",
     "output_type": "stream",
     "text": [
      "Введите день 2\n",
      "Введите месяц январь\n",
      "Ваш знак зодиака: Козерог\n"
     ]
    }
   ],
   "source": [
    "day = int(input('Введите день '))\n",
    "month = input('Введите месяц ').lower()\n",
    "if day <= 0 or day > 31: #Задать интервалы значений для дней и месяцев\n",
    "    print('Ошибка ввода даты')\n",
    "else:\n",
    "    if day >= 21 and month == 'март' or day <= 20 and month == 'апрель': #Убрать чувствительность к регистру\n",
    "        print('Ваш знак зодиака: Овен')\n",
    "    elif day >= 21 and month == 'апрель' or day <= 21 and month == 'май':\n",
    "        print('Ваш знак зодиака: Телец')\n",
    "    elif day >= 22 and month == 'май' or day <= 21 and month == 'июнь':\n",
    "        print('Ваш знак зодиака: Близнецы')\n",
    "    elif day >= 22 and month == 'июнь' or day <= 22 and month == 'июля':\n",
    "        print('Ваш знак зодиака: Рак')\n",
    "    elif day >= 23 and month == 'июль' or day <= 21 and month == 'август':\n",
    "        print('Ваш знак зодиака: Лев')\n",
    "    elif day >= 22 and month == 'август' or day <= 23 and month == 'сентябрь':\n",
    "        print('Ваш знак зодиака: Дева')\n",
    "    elif day >= 24 and month == 'сентябрь' or day <= 23 and month == 'октябрь':\n",
    "        print('Ваш знак зодиака: Весы')\n",
    "    elif day >= 24 and month == 'октябрь' or day <= 22 and month == 'ноябрь':\n",
    "        print('Ваш знак зодиака: Скорпион')\n",
    "    elif day >= 23 and month == 'ноябрь' or day <= 22 and month == 'декабрь':\n",
    "        print('Ваш знак зодиака: Стрелец')\n",
    "    elif day >= 23 and month == 'декабрь' or day <= 20 and month == 'январь':\n",
    "        print('Ваш знак зодиака: Козерог')\n",
    "    elif day >= 21 and month == 'январь' or day <= 19 and month == 'февраль':\n",
    "        print('Ваш знак зодиака: Телец')\n",
    "    elif day >= 20 and month == 'февраль' or day <= 20 and month == 'март':\n",
    "        print('Ваш знак зодиака: Телец')"
   ]
  },
  {
   "cell_type": "code",
   "execution_count": 1,
   "metadata": {},
   "outputs": [
    {
     "name": "stdout",
     "output_type": "stream",
     "text": [
      "Стандартная коробка №3\n"
     ]
    }
   ],
   "source": [
    "width = 14\n",
    "length = 15\n",
    "height = 200\n",
    "if width < 15 and length < 15 and height < 15:\n",
    "    print('Коробка №1')\n",
    "elif width < 50 and length < 50 and height < 50 and (width >= 15 or length >= 15 or height >= 15):\n",
    "    print('Коробка №2')\n",
    "elif length >= 200:\n",
    "    print('Упаковка для лыж')\n",
    "else:\n",
    "    print('Стандартная коробка №3')"
   ]
  },
  {
   "cell_type": "code",
   "execution_count": 19,
   "metadata": {
    "scrolled": true
   },
   "outputs": [
    {
     "name": "stdout",
     "output_type": "stream",
     "text": [
      "Введите шестизначное число 123321\n",
      "Счастливый билет\n"
     ]
    }
   ],
   "source": [
    "number = input('Введите шестизначное число ')\n",
    "if len(number) == 6:\n",
    "    if int(number[0]) + int(number[1]) + int(number[2]) == int(number[3]) + int(number[4]) + int(number[5]):\n",
    "        print('Счастливый билет')\n",
    "    else:\n",
    "        print('Несчастливый билет')\n",
    "else:\n",
    "    print('Некорректное число')"
   ]
  },
  {
   "cell_type": "code",
   "execution_count": 52,
   "metadata": {},
   "outputs": [
    {
     "name": "stdout",
     "output_type": "stream",
     "text": [
      "Введите тип фигуры треугольник\n",
      "Введите длину стороны A 1\n",
      "Введите длину стороны B 1.2\n",
      "Введите длину стороны C 1.45\n",
      "Площадь треугольника:  0.59\n"
     ]
    }
   ],
   "source": [
    "import math #Ввести библиотеку, чтобы использовать константы (Пи) и корень\n",
    "type_of_figure = input('Введите тип фигуры ')\n",
    "if type_of_figure.lower() == 'круг':  #Убрать чувствительность к регистру\n",
    "    rad = float(input('Введите радиус круга '))\n",
    "    s = math.pi * rad ** 2 #Формула площади окружности\n",
    "    print('Площадь круга: ', round (s, 2)) #Вывод с округлением до 2 знаков\n",
    "elif type_of_figure.lower() == 'треугольник':  #Убрать чувствительность к регистру\n",
    "    A = float(input('Введите длину стороны A '))\n",
    "    B = float(input('Введите длину стороны B '))\n",
    "    C = float(input('Введите длину стороны C '))\n",
    "    p = (A + B + C) / 2 #Вычислить полупериметр\n",
    "    if p < A or p < B or p < C: #Условия, что треугольник с такими сторонами может существовать\n",
    "        print('Неверно заданы стороны')\n",
    "    else:\n",
    "        s = math.sqrt (p * (p - A) * (p - B) * (p - C)) #Формула площади треугольника по 3 сторонам\n",
    "        print('Площадь треугольника: ', round (s, 2)) #Вывод с округлением до 2 знаков\n",
    "elif type_of_figure.lower() == 'прямоугольник':  #Убрать чувствительность к регистру\n",
    "    A = float(input('Введите длину стороны A '))\n",
    "    B = float(input('Введите длину стороны B '))\n",
    "    s = A * B #Формула площади прямоугольника\n",
    "    print('Площадь прямоугольника: ', round (s, 2)) #Вывод с округлением до 2 знаков\n",
    "else:\n",
    "    print('Ошибка')"
   ]
  }
 ],
 "metadata": {
  "kernelspec": {
   "display_name": "Python 3",
   "language": "python",
   "name": "python3"
  },
  "language_info": {
   "codemirror_mode": {
    "name": "ipython",
    "version": 3
   },
   "file_extension": ".py",
   "mimetype": "text/x-python",
   "name": "python",
   "nbconvert_exporter": "python",
   "pygments_lexer": "ipython3",
   "version": "3.8.5"
  }
 },
 "nbformat": 4,
 "nbformat_minor": 4
}
