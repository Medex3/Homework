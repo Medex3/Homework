{
 "cells": [
  {
   "cell_type": "code",
   "execution_count": 8,
   "metadata": {},
   "outputs": [
    {
     "data": {
      "text/plain": [
       "datetime.datetime(1977, 8, 18, 0, 0)"
      ]
     },
     "execution_count": 8,
     "metadata": {},
     "output_type": "execute_result"
    }
   ],
   "source": [
    "The_Moscow_Times = 'Wednesday, October 2, 2002'\n",
    "The_Guardian = 'Friday, 11.10.13'\n",
    "Daily_News = 'Thursday, 18 August 1977'\n",
    "from datetime import datetime\n",
    "date_The_Moscow_Times = datetime.strptime(The_Moscow_Times, '%A, %B %d, %Y')\n",
    "date_The_Guardian = datetime.strptime(The_Guardian, '%A, %d.%m.%y')\n",
    "date_The_Guardian_2 = datetime.strptime(The_Guardian, '%A, %m.%d.%y') #Возможны два варианта\n",
    "date_Daily_News = datetime.strptime(Daily_News, '%A, %d %B %Y')"
   ]
  },
  {
   "cell_type": "code",
   "execution_count": 51,
   "metadata": {},
   "outputs": [
    {
     "name": "stdout",
     "output_type": "stream",
     "text": [
      "2018-04-02 True (дата корректна)\n",
      "2018-02-29 False (некорректная дата)\n",
      "2018-19-02 False (некорректная дата)\n"
     ]
    }
   ],
   "source": [
    "from datetime import datetime\n",
    "from datetime import timedelta\n",
    "stream = ['2018-04-02', '2018-02-29', '2018-19-02']\n",
    "for i in stream:\n",
    "    try:\n",
    "        stream_date = datetime.strptime(i, '%Y-%m-%d')\n",
    "        print(i, 'True (дата корректна)')\n",
    "    except:\n",
    "        print(i, 'False (некорректная дата)')"
   ]
  },
  {
   "cell_type": "code",
   "execution_count": 63,
   "metadata": {},
   "outputs": [
    {
     "name": "stdout",
     "output_type": "stream",
     "text": [
      "Введите начальную дату ава\n",
      "Введите конечную дату ав\n",
      "[]\n"
     ]
    }
   ],
   "source": [
    "list_1 = []\n",
    "def date_range():\n",
    "    try: #Проверка формата\n",
    "        start_date = input('Введите начальную дату ')\n",
    "        end_date = input('Введите конечную дату ')\n",
    "        start_date_datetime = datetime.strptime(start_date, '%Y-%m-%d') #Формат даты\n",
    "        end_date_datetime = datetime.strptime(end_date, '%Y-%m-%d')\n",
    "        current_date = start_date_datetime #Переменная для счетчика\n",
    "        if start_date_datetime >= end_date_datetime: #Проверка дат\n",
    "            print(list_1)\n",
    "        else:\n",
    "            while current_date.strftime('%Y-%m-%d') < end_date: #Счетчик\n",
    "                print(current_date.strftime('%Y-%m-%d')) #Вывод даты в нормальном виде\n",
    "                current_date += timedelta(days = 1)\n",
    "    except:\n",
    "        print(list_1)\n",
    "date_range()"
   ]
  },
  {
   "cell_type": "code",
   "execution_count": 115,
   "metadata": {},
   "outputs": [],
   "source": [
    "DEFAULT_USER_COUNT = 3\n",
    "\n",
    "def delete_and_return_last_user(region, default_list=['A100', 'A101', 'A102']):\n",
    "    \"\"\"\n",
    "    Удаляет из списка default_list последнего пользователя\n",
    "    и возвращает ID нового последнего пользователя.\n",
    "    \"\"\"\n",
    "    element_to_delete = default_list[-1] #Нахожу последний элемент\n",
    "    default_list.remove(element_to_delete) #Удаляю\n",
    "\n",
    "    return default_list[DEFAULT_USER_COUNT-2]"
   ]
  },
  {
   "cell_type": "code",
   "execution_count": null,
   "metadata": {},
   "outputs": [],
   "source": [
    "\"\"\"\n",
    "1. list index out of range означает, что функция обращается к индексу элемента, которого нет в списке.\n",
    "2. Функция возвращает один и тот же элемент A101. После первого запуска элемент A101 остается последним и при втором запуске \n",
    "он удаляется. Но функция пытается его вернуть.\n",
    "\"\"\""
   ]
  },
  {
   "cell_type": "code",
   "execution_count": 146,
   "metadata": {},
   "outputs": [],
   "source": [
    "#Исправленный вариант\n",
    "def delete_and_return_last_user(region, default_list=['A100', 'A101', 'A102']):\n",
    "    element_to_delete = default_list[-1] #Нахожу последний элемент\n",
    "    if len(default_list) > 1: #Проверка, что элементов больше одного\n",
    "        default_list.remove(element_to_delete) #Удаляю\n",
    "    else:\n",
    "        print('В списке остался один элемент: ')\n",
    "    return default_list[-1]"
   ]
  },
  {
   "cell_type": "code",
   "execution_count": 149,
   "metadata": {},
   "outputs": [
    {
     "name": "stdout",
     "output_type": "stream",
     "text": [
      "В списке остался один элемент: \n"
     ]
    },
    {
     "data": {
      "text/plain": [
       "'A100'"
      ]
     },
     "execution_count": 149,
     "metadata": {},
     "output_type": "execute_result"
    }
   ],
   "source": [
    "delete_and_return_last_user(1)"
   ]
  }
 ],
 "metadata": {
  "kernelspec": {
   "display_name": "Python 3",
   "language": "python",
   "name": "python3"
  },
  "language_info": {
   "codemirror_mode": {
    "name": "ipython",
    "version": 3
   },
   "file_extension": ".py",
   "mimetype": "text/x-python",
   "name": "python",
   "nbconvert_exporter": "python",
   "pygments_lexer": "ipython3",
   "version": "3.8.5"
  }
 },
 "nbformat": 4,
 "nbformat_minor": 4
}
