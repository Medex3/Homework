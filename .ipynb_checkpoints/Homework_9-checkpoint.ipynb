{
 "cells": [
  {
   "cell_type": "code",
   "execution_count": 2,
   "metadata": {},
   "outputs": [
    {
     "name": "stdout",
     "output_type": "stream",
     "text": [
      "Номер АВ222С96 валиден. Регион:  96\n"
     ]
    }
   ],
   "source": [
    "import re\n",
    "car_id = 'АВ222С96'\n",
    "result = r'([А|В|Е|К|М|Н|О|Р|С|Т|У|Х]{2}\\d{3}[А|В|Е|К|М|Н|О|Р|С|Т|У|Х]{1})(\\d{2,3})' #Разбиваю на 2 группы\n",
    "result_group = re.findall(result, car_id) #Проверка\n",
    "region = re.search(result, car_id) #Для вывода группы\n",
    "if result_group:\n",
    "    print('Номер', car_id, 'валиден. Регион: ', region.group(2))\n",
    "else:\n",
    "    print('Номер не валиден')"
   ]
  },
  {
   "cell_type": "code",
   "execution_count": 76,
   "metadata": {},
   "outputs": [
    {
     "name": "stdout",
     "output_type": "stream",
     "text": [
      "Напишите функцию которая будет удалять все последовательные повторы слов из заданной строки при помощи регулярных выражений\n"
     ]
    }
   ],
   "source": [
    "some_string = 'Напишите функцию функцию, которая будет будет будет будет удалять все все все все последовательные повторы слов из из из из заданной строки строки при помощи регулярных выражений'\n",
    "print(re.sub(r'\\b([^\\W\\d_]+)(\\s+\\1)+\\b', r'\\1', re.sub(r'\\W+', ' ', some_string).strip()))"
   ]
  },
  {
   "cell_type": "code",
   "execution_count": 69,
   "metadata": {},
   "outputs": [
    {
     "data": {
      "text/plain": [
       "'И т'"
      ]
     },
     "execution_count": 69,
     "metadata": {},
     "output_type": "execute_result"
    }
   ],
   "source": [
    "some_words = 'Информационные технологии'\n",
    "re.sub(r'\\b(\\w)\\w+', r'\\1', some_words)"
   ]
  },
  {
   "cell_type": "code",
   "execution_count": 194,
   "metadata": {},
   "outputs": [
    {
     "name": "stdout",
     "output_type": "stream",
     "text": [
      "gmail.com : 2\n",
      "test.in : 1\n",
      "ya.ru : 2\n",
      "mail.ru : 1\n"
     ]
    }
   ],
   "source": [
    "emails = ['test@gmail.com, xyz@test.in, test@ya.ru, xyz@mail.ru, xyz@ya.ru, xyz@gmail.com']\n",
    "emails_pattern = r'(\\w+\\.\\w+)' \n",
    "for email in emails:\n",
    "    result = re.findall(emails_pattern, email) #Создаю список только из доменов\n",
    "unique_email = [] #Пустой список для проверки на уникальность\n",
    "for i in result:\n",
    "    if i in unique_email:\n",
    "        continue\n",
    "    else:\n",
    "        unique_email.append(i)\n",
    "        c = result.count(i)\n",
    "    print(i, ':', c)"
   ]
  }
 ],
 "metadata": {
  "kernelspec": {
   "display_name": "Python 3",
   "language": "python",
   "name": "python3"
  },
  "language_info": {
   "codemirror_mode": {
    "name": "ipython",
    "version": 3
   },
   "file_extension": ".py",
   "mimetype": "text/x-python",
   "name": "python",
   "nbconvert_exporter": "python",
   "pygments_lexer": "ipython3",
   "version": "3.8.5"
  }
 },
 "nbformat": 4,
 "nbformat_minor": 4
}
