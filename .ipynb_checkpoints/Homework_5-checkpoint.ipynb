{
 "cells": [
  {
   "cell_type": "code",
   "execution_count": 213,
   "metadata": {},
   "outputs": [
    {
     "data": {
      "text/plain": [
       "{'user_id': 'category',\n",
       " '1840e0b9d4': 'Продукты',\n",
       " '4e4f90fcfb': 'Электроника',\n",
       " 'afea8d72fc': 'Электроника',\n",
       " '373a6055fe': 'Бытовая техника',\n",
       " '9b2ab046f3': 'Электроника',\n",
       " '9f39d307c3': 'Электроника',\n",
       " '44edeffc91': 'Продукты',\n",
       " '704474fa2d': 'Продукты',\n",
       " '1de31be403': 'Бытовая техника',\n",
       " 'b71f36a5e4': 'Продукты',\n",
       " '79843a685a': 'Продукты'}"
      ]
     },
     "execution_count": 213,
     "metadata": {},
     "output_type": "execute_result"
    }
   ],
   "source": [
    "import json\n",
    "purchases = {}\n",
    "with open('purchase_log.txt', encoding='utf-8') as f: #Использую кодировку\n",
    "    for i, line in enumerate(f):\n",
    "        dict_ = json.loads(line.strip()) #Формитрую словарь\n",
    "        purchases[dict_['user_id']] = dict_['category']\n",
    "        if i > 10:\n",
    "            break\n",
    "purchases"
   ]
  },
  {
   "cell_type": "code",
   "execution_count": 394,
   "metadata": {
    "scrolled": true
   },
   "outputs": [
    {
     "name": "stdout",
     "output_type": "stream",
     "text": [
      "['user_id', 'source', 'category']\n",
      "['1840e0b9d4', 'other', 'Продукты']\n",
      "['4e4f90fcfb', 'context', 'Электроника']\n",
      "['afea8d72fc', 'other', 'Электроника']\n",
      "['373a6055fe', 'other', 'Бытовая техника']\n",
      "['9b2ab046f3', 'other', 'Электроника']\n",
      "['9f39d307c3', 'context', 'Электроника']\n",
      "['44edeffc91', 'context', 'Продукты']\n",
      "['704474fa2d', 'other', 'Продукты']\n",
      "['1de31be403', 'other', 'Бытовая техника']\n",
      "['b71f36a5e4', 'other', 'Продукты']\n"
     ]
    }
   ],
   "source": [
    "import pickle\n",
    "i = 0\n",
    "dict_new = {}\n",
    "with open('purchase_log.txt', encoding='utf-8') as purchase_log: #Создаю словарь из файла purchase_log\n",
    "    for purchase_log_line in purchase_log:\n",
    "        dict_ = json.loads(purchase_log_line.strip())\n",
    "        dict_new[dict_['user_id']] = dict_['category']\n",
    "        i += 1\n",
    "        if i > 10:\n",
    "            break\n",
    "with open('visit_log.csv') as visit_log:\n",
    "    with open ('funnel.csv', 'w') as funnel:\n",
    "        for visit_line in visit_log:\n",
    "            visit_line = visit_line.strip().split(',')\n",
    "            for k, v in dict_new.items():\n",
    "                if k == visit_line[0]:\n",
    "                    visit_line.append(v)\n",
    "                    funnel.writelines(str(visit_line) + '\\n')\n",
    "                    print(visit_line)\n",
    "#Код работает очень медленно. Я так понимаю, из-за цикла нескольких циклов. Не смог сообразить, как уменьшить их количество\n",
    "#У меня ошибка в логике построения?"
   ]
  }
 ],
 "metadata": {
  "kernelspec": {
   "display_name": "Python 3",
   "language": "python",
   "name": "python3"
  },
  "language_info": {
   "codemirror_mode": {
    "name": "ipython",
    "version": 3
   },
   "file_extension": ".py",
   "mimetype": "text/x-python",
   "name": "python",
   "nbconvert_exporter": "python",
   "pygments_lexer": "ipython3",
   "version": "3.8.5"
  }
 },
 "nbformat": 4,
 "nbformat_minor": 4
}
