{
 "cells": [
  {
   "cell_type": "code",
   "execution_count": 2,
   "metadata": {},
   "outputs": [],
   "source": [
    "import requests\n",
    "class Rate:\n",
    "    def __init__(self, format_, diff = 'False'):\n",
    "        self.format = format_\n",
    "        self.diff = diff\n",
    "    def exchange_rates(self):\n",
    "        \"\"\"\n",
    "        Вывод всех значений в формате json с сайта\n",
    "        \"\"\"\n",
    "        self.r = requests.get('https://www.cbr-xml-daily.ru/daily_json.js')\n",
    "        return self.r.json()['Valute']\n",
    "    def make_format(self, currency):\n",
    "        response = self.exchange_rates()\n",
    "        if currency in response:\n",
    "            if self.format == 'full':\n",
    "                return response[currency]\n",
    "            if self.format == 'value':\n",
    "                if self.diff == 'True':\n",
    "                    return (response[currency]['Previous'] - response[currency]['Value']) \n",
    "                else:\n",
    "                    return response[currency]['Value']\n",
    "        return 'Error'\n",
    "    def eur(self):\n",
    "        \"\"\"Возвращает курс евро на сегодня в формате self.format\"\"\"\n",
    "        return self.make_format('EUR')\n",
    "    def find_max(self):\n",
    "        \"\"\"\n",
    "        Поиск имени максимального курса\n",
    "        \"\"\"\n",
    "        max_value = 0 #Переменная, куда буду записывать максимальное значение\n",
    "        response = self.exchange_rates()\n",
    "        for res in response:\n",
    "            if response[res]['Value'] > max_value:\n",
    "                max_value = response[res]['Value']\n",
    "                name_max_value = response[res]['Name']\n",
    "        return (name_max_value)            "
   ]
  },
  {
   "cell_type": "code",
   "execution_count": 3,
   "metadata": {},
   "outputs": [
    {
     "data": {
      "text/plain": [
       "0.13560000000001082"
      ]
     },
     "execution_count": 3,
     "metadata": {},
     "output_type": "execute_result"
    }
   ],
   "source": [
    "a = Rate(format_ = 'value', diff = 'True')\n",
    "a.eur()"
   ]
  },
  {
   "cell_type": "code",
   "execution_count": 4,
   "metadata": {},
   "outputs": [
    {
     "data": {
      "text/plain": [
       "{'ID': 'R01239',\n",
       " 'NumCode': '978',\n",
       " 'CharCode': 'EUR',\n",
       " 'Nominal': 1,\n",
       " 'Name': 'Евро',\n",
       " 'Value': 89.6475,\n",
       " 'Previous': 89.7831}"
      ]
     },
     "execution_count": 4,
     "metadata": {},
     "output_type": "execute_result"
    }
   ],
   "source": [
    "a = Rate(format_ = 'full', diff = 'False')\n",
    "a.eur()"
   ]
  },
  {
   "cell_type": "code",
   "execution_count": 10,
   "metadata": {},
   "outputs": [],
   "source": [
    "class Employee:\n",
    "    def __init__(self, name, seniority):\n",
    "        self.name = name\n",
    "        self.seniority = seniority\n",
    "        self.grade = 1\n",
    "    \n",
    "    def grade_up(self):\n",
    "        \"\"\"Повышает уровень сотрудника\"\"\"\n",
    "        self.grade += 1\n",
    "    \n",
    "    def publish_grade(self):\n",
    "        \"\"\"Публикация результатов аккредитации сотрудников\"\"\"\n",
    "        print(self.name, self.grade)\n",
    "    \n",
    "    def check_if_it_is_time_for_upgrade(self):\n",
    "        pass"
   ]
  },
  {
   "cell_type": "code",
   "execution_count": 51,
   "metadata": {},
   "outputs": [],
   "source": [
    "class Designer(Employee):\n",
    "    def __init__(self, name, seniority):\n",
    "        super().__init__(name, seniority)\n",
    "        self.name = name\n",
    "        self.prize_total = 2 #Текущее количество наград\n",
    "        self.prize_to_grade = 2 #Количество наград, полученных после последнего повышения\n",
    "    def check_if_it_is_time_for_upgrade(self): #Пусть проверка запускается при каждом получении награды\n",
    "        self.prize_total += 1\n",
    "        self.prize_to_grade += 1\n",
    "        self.points = self.prize_to_grade * 2 #Количество очков за награды после последнего повышения\n",
    "        if self.points >= 7:\n",
    "            self.grade_up()\n",
    "            self.points = self.points - 7 \n",
    "            self.prize_to_grade = 0\n",
    "        return self.publish_grade()\n",
    "\"\"\"\n",
    "Есть два счетчика - общее количество наград self.prize_total и количество наград, полученных после последнего повышения \n",
    "self.prize_to_grade. Как только количество балло равно либо больше 7, счетчик наград, полученных после последнего повышения, \n",
    "сбрасывается, а из общего количества баллов вычитается 7 баллов\n",
    "\"\"\""
   ]
  },
  {
   "cell_type": "code",
   "execution_count": 52,
   "metadata": {},
   "outputs": [
    {
     "name": "stdout",
     "output_type": "stream",
     "text": [
      "Bob 1\n",
      "Bob 2\n",
      "Bob 2\n",
      "Bob 2\n",
      "Bob 2\n",
      "Bob 3\n",
      "Bob 3\n",
      "Bob 3\n",
      "Bob 3\n",
      "Bob 4\n",
      "Bob 4\n",
      "Bob 4\n",
      "Bob 4\n",
      "Bob 5\n",
      "Bob 5\n",
      "Bob 5\n",
      "Bob 5\n",
      "Bob 6\n",
      "Bob 6\n",
      "Bob 6\n"
     ]
    }
   ],
   "source": [
    "bob = Designer('Bob', 0)\n",
    "for i in range(20):\n",
    "    bob.check_if_it_is_time_for_upgrade()\n"
   ]
  }
 ],
 "metadata": {
  "kernelspec": {
   "display_name": "Python 3",
   "language": "python",
   "name": "python3"
  },
  "language_info": {
   "codemirror_mode": {
    "name": "ipython",
    "version": 3
   },
   "file_extension": ".py",
   "mimetype": "text/x-python",
   "name": "python",
   "nbconvert_exporter": "python",
   "pygments_lexer": "ipython3",
   "version": "3.8.5"
  }
 },
 "nbformat": 4,
 "nbformat_minor": 4
}
