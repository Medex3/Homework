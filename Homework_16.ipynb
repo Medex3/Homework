{
 "cells": [
  {
   "cell_type": "code",
   "execution_count": 1,
   "metadata": {},
   "outputs": [],
   "source": [
    "import pandas as pd\n",
    "import numpy as np\n",
    "import matplotlib.pyplot as plt"
   ]
  },
  {
   "cell_type": "code",
   "execution_count": 84,
   "metadata": {},
   "outputs": [],
   "source": [
    "def slot_machine(num):\n",
    "    win_amount = 0\n",
    "    for i in range(num): #Задаю количество игр\n",
    "        numbers = np.random.randint(1, 1000) #Слычайно вырадающие числа от 1 до 999\n",
    "        if numbers == 777:\n",
    "            win_amount += 200\n",
    "        if numbers == 999:\n",
    "            win_amount += 100\n",
    "        if numbers == 555:\n",
    "            win_amount += 50\n",
    "        if numbers == 333:\n",
    "            win_amount += 15\n",
    "        if numbers == 111:\n",
    "            win_amount += 10\n",
    "        if numbers%100 == 77 and numbers != 777:\n",
    "            win_amount += 5\n",
    "        if numbers%10 == 7 and numbers != 777 and numbers%100 != 77:\n",
    "            win_amount += 3\n",
    "        if numbers%100 == 00:\n",
    "            win_amount += 2\n",
    "        if numbers%10 == 0 and numbers%100 != 00:\n",
    "            win_amount += 1\n",
    "    return win_amount"
   ]
  },
  {
   "cell_type": "code",
   "execution_count": 110,
   "metadata": {},
   "outputs": [
    {
     "name": "stdout",
     "output_type": "stream",
     "text": [
      "Побед: 180\n",
      "Поражений: 820\n",
      "Процент побед 18.0 %\n"
     ]
    }
   ],
   "source": [
    "np.random.seed(42)\n",
    "trials = 1000 \n",
    "win = 0\n",
    "lose = 0\n",
    "for i in range(trials):\n",
    "    if slot_machine(1000) >= 1000: #Проверяю тысячу раз каждый блок по 1000 игр \n",
    "        win += 1\n",
    "    else:\n",
    "        lose += 1\n",
    "monte_carlo = win / trials\n",
    "monte_carlo\n",
    "print('Побед:', win)\n",
    "print('Поражений:', lose)\n",
    "print('Процент побед', monte_carlo * 100, '%') #Не очень выгодно"
   ]
  },
  {
   "cell_type": "code",
   "execution_count": 119,
   "metadata": {},
   "outputs": [
    {
     "name": "stdout",
     "output_type": "stream",
     "text": [
      "Средняя сумма при победе: 156.81\n",
      "Средняя сумма при поражении: 290.58\n"
     ]
    }
   ],
   "source": [
    "np.random.seed(42)\n",
    "trials = 1000 \n",
    "win = 0\n",
    "lose = 0\n",
    "win_sum = 0\n",
    "lose_sum = 0\n",
    "for i in range(trials):\n",
    "    a = slot_machine(1000)\n",
    "    if a >= 1000:\n",
    "        win += 1\n",
    "        win_sum += a\n",
    "    else:\n",
    "        lose_sum += a\n",
    "        lose += 1\n",
    "print('Средняя сумма при победе:', round((win_sum / win - 1000), 2))\n",
    "print('Средняя сумма при поражении:', round((1000 - lose_sum / lose), 2))"
   ]
  },
  {
   "cell_type": "code",
   "execution_count": null,
   "metadata": {},
   "outputs": [],
   "source": []
  }
 ],
 "metadata": {
  "kernelspec": {
   "display_name": "Python 3",
   "language": "python",
   "name": "python3"
  },
  "language_info": {
   "codemirror_mode": {
    "name": "ipython",
    "version": 3
   },
   "file_extension": ".py",
   "mimetype": "text/x-python",
   "name": "python",
   "nbconvert_exporter": "python",
   "pygments_lexer": "ipython3",
   "version": "3.8.5"
  }
 },
 "nbformat": 4,
 "nbformat_minor": 4
}
