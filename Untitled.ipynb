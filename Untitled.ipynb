{
 "cells": [
  {
   "cell_type": "code",
   "execution_count": 10,
   "metadata": {},
   "outputs": [],
   "source": [
    "documents = [\n",
    " {'type': 'passport', 'number': '2207 876234', 'name': 'Василий Гупкин'},\n",
    " {'type': 'invoice', 'number': '11-2', 'name': 'Геннадий Покемонов'},\n",
    " {'type': 'insurance', 'number': '10006', 'name': 'Аристарх Павлов'}\n",
    "]\n",
    "directories = {\n",
    " '1': ['2207 876234', '11-2'],\n",
    " '2': ['10006'],\n",
    " '3': []\n",
    "}"
   ]
  },
  {
   "cell_type": "code",
   "execution_count": 45,
   "metadata": {},
   "outputs": [
    {
     "name": "stdout",
     "output_type": "stream",
     "text": [
      "Введите номер полки: 1\n",
      "Такая полка уже существует. Текущий перечень полок: 1, 2, 3, 4.\n"
     ]
    }
   ],
   "source": [
    "shelter = input('Введите номер полки: ')\n",
    "if str(shelter) in directories.keys():\n",
    "    res = f'Такая полка уже существует. Текущий перечень полок: {\", \".join(directories.keys())}.'\n",
    "    #return res\n",
    "    print(res)\n",
    "else:\n",
    "    directories.setdefault(str(shelter), [])\n",
    "    res = f'Полка добавлена. Текущий перечень полок: {\", \".join(directories.keys())}.'\n",
    "    #return res\n",
    "    print(res)"
   ]
  },
  {
   "cell_type": "code",
   "execution_count": 36,
   "metadata": {},
   "outputs": [
    {
     "name": "stdout",
     "output_type": "stream",
     "text": [
      "dict_keys(['1', '2', '3'])\n"
     ]
    }
   ],
   "source": [
    "print(directories.keys())"
   ]
  },
  {
   "cell_type": "code",
   "execution_count": 46,
   "metadata": {},
   "outputs": [
    {
     "name": "stdout",
     "output_type": "stream",
     "text": [
      "Введите номер полки: 1\n"
     ]
    },
    {
     "data": {
      "text/plain": [
       "'Такая полка уже существует. Текущий перечень полок: 1, 2, 3, 4.'"
      ]
     },
     "execution_count": 46,
     "metadata": {},
     "output_type": "execute_result"
    }
   ],
   "source": [
    "def add_shelf(dirs):\n",
    "    shelter = input('Введите номер полки: ')\n",
    "    if str(shelter) in dirs.keys():\n",
    "        res = f'Такая полка уже существует. Текущий перечень полок: {\", \".join(dirs.keys())}.'\n",
    "        return res\n",
    "    else:\n",
    "        dirs.setdefault(str(shelter), [])\n",
    "        res = f'Полка добавлена. Текущий перечень полок: {\", \".join(dirs.keys())}.'\n",
    "        return res\n",
    "\n",
    "add_shelf(directories)"
   ]
  }
 ],
 "metadata": {
  "kernelspec": {
   "display_name": "Python 3",
   "language": "python",
   "name": "python3"
  },
  "language_info": {
   "codemirror_mode": {
    "name": "ipython",
    "version": 3
   },
   "file_extension": ".py",
   "mimetype": "text/x-python",
   "name": "python",
   "nbconvert_exporter": "python",
   "pygments_lexer": "ipython3",
   "version": "3.8.5"
  }
 },
 "nbformat": 4,
 "nbformat_minor": 4
}
