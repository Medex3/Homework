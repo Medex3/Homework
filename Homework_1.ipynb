{
 "cells": [
  {
   "cell_type": "code",
   "execution_count": 5,
   "metadata": {},
   "outputs": [
    {
     "name": "stdout",
     "output_type": "stream",
     "text": [
      "Фраза 1 длиннее фразы 2\n"
     ]
    }
   ],
   "source": [
    "phrase_1 = 'Насколько проще было бы писать программы, если бы не заказчики' #Введем переменные с фразами, которые будем сравнивать\n",
    "phrase_2 = '640Кб должно хватить для любых задач. Билл Гейтс (по легенде)'\n",
    "if phrase_1 > phrase_2: #Условие №1\n",
    "    print ('Фраза 1 длиннее фразы 2')\n",
    "elif phrase_1 < phrase_2:  #Условие №2\n",
    "    print ('Фраза 2 длиннее фразы 1')\n",
    "else: #Т.к. фразы равны только, если первые два условия не выполняются, то просто указываем else\n",
    "    print ('Фразы равной длины')"
   ]
  },
  {
   "cell_type": "code",
   "execution_count": 11,
   "metadata": {},
   "outputs": [
    {
     "name": "stdout",
     "output_type": "stream",
     "text": [
      "Высокостный год\n"
     ]
    }
   ],
   "source": [
    "year = 2000\n",
    "if year % 4 == 0 and year % 400 == 0: #Условия высокостного года (из интернета)\n",
    "    print ('Высокостный год')\n",
    "else:\n",
    "    print ('Обычный год')"
   ]
  },
  {
   "cell_type": "code",
   "execution_count": 47,
   "metadata": {},
   "outputs": [
    {
     "name": "stdout",
     "output_type": "stream",
     "text": [
      "Введите день 21\n",
      "Введите месяц май\n",
      "Ваш знак зодиака: Телец\n"
     ]
    }
   ],
   "source": [
    "day = int (input ('Введите день '))\n",
    "month = str (input ('Введите месяц '))\n",
    "if day <= 0 or day > 31: #Задать интервалы значений для дней и месяцев\n",
    "    print ('Ошибка ввода даты')\n",
    "else:\n",
    "    if day >= 21 and month.lower() == 'март' or day <= 20 and month.lower() == 'апрель': #Убрал чувствительность к регистру\n",
    "        print ('Ваш знак зодиака: Овен')\n",
    "    elif day >= 21 and month.lower() == 'апрель' or day <= 21 and month.lower() == 'май':\n",
    "        print ('Ваш знак зодиака: Телец')\n",
    "    elif day >= 22 and month.lower() == 'май' or day <= 21 and month.lower() == 'июнь':\n",
    "        print ('Ваш знак зодиака: Близнецы')\n",
    "    elif day >= 22 and month.lower() == 'июнь' or day <= 22 and month.lower() == 'июля':\n",
    "        print ('Ваш знак зодиака: Рак')\n",
    "    elif day >= 23 and month.lower() == 'июль' or day <= 21 and month.lower() == 'август':\n",
    "        print ('Ваш знак зодиака: Лев')\n",
    "    elif day >= 22 and month.lower() == 'август' or day <= 23 and month.lower() == 'сентябрь':\n",
    "        print ('Ваш знак зодиака: Дева')\n",
    "    elif day >= 24 and month.lower() == 'сентябрь' or day <= 23 and month.lower() == 'октябрь':\n",
    "        print ('Ваш знак зодиака: Весы')\n",
    "    elif day >= 24 and month.lower() == 'октябрь' or day <= 22 and month.lower() == 'ноябрь':\n",
    "        print ('Ваш знак зодиака: Скорпион')\n",
    "    elif day >= 23 and month.lower() == 'ноябрь' or day <= 22 and month.lower() == 'декабрь':\n",
    "        print ('Ваш знак зодиака: Стрелец')\n",
    "    elif day >= 23 and month.lower() == 'декабрь' or day <= 20 and month.lower() == 'январь':\n",
    "        print ('Ваш знак зодиака: Козерог')\n",
    "    elif day >= 21 and month.lower() == 'январь' or day <= 19 and month.lower() == 'февраль':\n",
    "        print ('Ваш знак зодиака: Телец')\n",
    "    elif day >= 20 and month.lower() == 'февраль' or day <= 20 and month.lower() == 'март':\n",
    "        print ('Ваш знак зодиака: Телец')"
   ]
  },
  {
   "cell_type": "code",
   "execution_count": 82,
   "metadata": {},
   "outputs": [
    {
     "name": "stdout",
     "output_type": "stream",
     "text": [
      "Упаковка для лыж\n"
     ]
    }
   ],
   "source": [
    "width = 14\n",
    "length = 200\n",
    "height = 200\n",
    "if width < 15 and length < 15 and height < 15:\n",
    "    print ('Коробка №1')\n",
    "elif width < 50 and length < 50 and height < 50 and (width >= 15 or length >= 15 or height >= 15):\n",
    "    print ('Коробка №2')\n",
    "elif length >= 200:\n",
    "    print ('Упаковка для лыж')\n",
    "else:\n",
    "    print ('Стандартная коробка №3')"
   ]
  }
 ],
 "metadata": {
  "kernelspec": {
   "display_name": "Python 3",
   "language": "python",
   "name": "python3"
  },
  "language_info": {
   "codemirror_mode": {
    "name": "ipython",
    "version": 3
   },
   "file_extension": ".py",
   "mimetype": "text/x-python",
   "name": "python",
   "nbconvert_exporter": "python",
   "pygments_lexer": "ipython3",
   "version": "3.8.5"
  }
 },
 "nbformat": 4,
 "nbformat_minor": 4
}
