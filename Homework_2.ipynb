{
 "cells": [
  {
   "cell_type": "code",
   "execution_count": 102,
   "metadata": {},
   "outputs": [
    {
     "name": "stdout",
     "output_type": "stream",
     "text": [
      "Введите слово asdf\n",
      "Результат sd\n"
     ]
    }
   ],
   "source": [
    "word = str(input('Введите слово '))\n",
    "if len(word) % 2 == 0: #Условие четного количества символов\n",
    "    print('Результат', word[len(word) // 2 - 1] + word[len(word) // 2]) #Задать индексы в строке, которые являются средними\n",
    "else:\n",
    "    print('Результат', word[len(word) // 2]) #Индекс средней буквы при нечетном количестве равен значению деления без остатка"
   ]
  },
  {
   "cell_type": "code",
   "execution_count": 91,
   "metadata": {},
   "outputs": [
    {
     "name": "stdout",
     "output_type": "stream",
     "text": [
      "Введите число 1\n",
      "Введите число 2\n",
      "Введите число 3\n",
      "Введите число 0\n",
      "Результат 6\n"
     ]
    }
   ],
   "source": [
    "number = 0\n",
    "while True:\n",
    "    user_input = int(input('Введите число '))\n",
    "    if user_input != 0:\n",
    "        number += user_input\n",
    "    else:\n",
    "        break\n",
    "print('Результат', number)"
   ]
  },
  {
   "cell_type": "code",
   "execution_count": 68,
   "metadata": {},
   "outputs": [
    {
     "name": "stdout",
     "output_type": "stream",
     "text": [
      "Идеальные пары:\n",
      "Peter и Kate\n",
      "Alex и Liza\n",
      "John и Kira\n",
      "Arthur и Emma\n",
      "Richard и Trisha\n"
     ]
    }
   ],
   "source": [
    "boys = ['Peter', 'Alex', 'John', 'Arthur', 'Richard']\n",
    "girls = ['Kate', 'Liza', 'Kira', 'Emma', 'Trisha']\n",
    "if len(boys) == len(girls):\n",
    "    print('Идеальные пары:')\n",
    "    pairs = list(zip(boys, girls))\n",
    "    for i in pairs:\n",
    "        print(i[0], 'и', i[1])\n",
    "else:\n",
    "    print('Внимание, кто-то может остаться без пары!')"
   ]
  },
  {
   "cell_type": "code",
   "execution_count": 158,
   "metadata": {
    "scrolled": true
   },
   "outputs": [
    {
     "name": "stdout",
     "output_type": "stream",
     "text": [
      "Thailand - 23.9 C\n",
      "Germany - 13.8 C\n",
      "Russia - 3.7 C\n",
      "Poland - 12.0 C\n"
     ]
    }
   ],
   "source": [
    "countries_temperature = [\n",
    "['Thailand', [75.2, 77, 78.8, 73.4, 68, 75.2, 77]],\n",
    "['Germany', [57.2, 55.4, 59, 59, 53.6]],\n",
    "['Russia', [35.6, 37.4, 39.2, 41, 42.8, 39.2, 35.6]],\n",
    "['Poland', [50, 50, 53.6, 57.2, 55.4, 55.4]]\n",
    "]\n",
    "for i in countries_temperature:\n",
    "    print(i[0], '-', round((sum(i[1]) / len(i[1]) - 32) * 5 / 9, 1), 'C')"
   ]
  },
  {
   "cell_type": "code",
   "execution_count": 194,
   "metadata": {},
   "outputs": [
    {
     "name": "stdout",
     "output_type": "stream",
     "text": [
      "Среднее количество просмотров на уникального пользователя:  23.25\n"
     ]
    }
   ],
   "source": [
    "stream = [\n",
    "'2018-01-01,user1,3',\n",
    "'2018-01-07,user1,4',\n",
    "'2018-03-29,user1,1',\n",
    "'2018-04-04,user1,13',\n",
    "'2018-01-05,user2,7',\n",
    "'2018-06-14,user3,4',\n",
    "'2018-07-02,user3,10',\n",
    "'2018-03-21,user4,19',\n",
    "'2018-03-22,user4,4',\n",
    "'2018-04-22,user4,8',\n",
    "'2018-05-03,user4,9',\n",
    "'2018-05-11,user4,11',\n",
    "]\n",
    "list_view = [] #Задаю два пустых списка для того, чтобы отпправить в них значения номеров пользователей и просмотров\n",
    "list_user = []\n",
    "for i in stream:\n",
    "    view = i.split(',') #Разделяю строку по запятым, чтобы получить кол-во просмотров\n",
    "    user = view[1].split('user') #Разделяю строку по user, чтобы получить номера пользователей\n",
    "    list_view.append(view[2]) #Отправляю значения в списки\n",
    "    list_user.append(user[1])\n",
    "int_list_view = (int(x) for x in list_view) #Меняю тип в списке с просмотрами на int\n",
    "sum_view = sum(int_list_view) #Нахожу общее число просмотров\n",
    "unique = list(set(list_user)) #Нахожу уникальные значения в списке с пользователями\n",
    "sum_user = len(unique) #Нахожу количество уникальных значений в списке с пользователями\n",
    "avr = sum_view / sum_user #Нахожу среднее\n",
    "print('Среднее количество просмотров на уникального пользователя: ', avr)"
   ]
  },
  {
   "cell_type": "code",
   "execution_count": 253,
   "metadata": {},
   "outputs": [
    {
     "name": "stdout",
     "output_type": "stream",
     "text": [
      "Введите числа 4 8 0 3 4 2 0 3\n",
      "['4', '0', '3']\n",
      "Результат:  ['0', '3', '4']\n"
     ]
    }
   ],
   "source": [
    "number = str(input('Введите числа ')) #Ввод\n",
    "a = number.split(' ') #Разделяю строку на элементы\n",
    "unique1 = list(set(a)) #Создаю список уникальных значений\n",
    "result = [ x for x in a] #Удаляю из общего списка уникальные значения\n",
    "for i in unique1:\n",
    "    if i in a:\n",
    "        result.remove(i)\n",
    "print('Результат: ', sorted(result))"
   ]
  }
 ],
 "metadata": {
  "kernelspec": {
   "display_name": "Python 3",
   "language": "python",
   "name": "python3"
  },
  "language_info": {
   "codemirror_mode": {
    "name": "ipython",
    "version": 3
   },
   "file_extension": ".py",
   "mimetype": "text/x-python",
   "name": "python",
   "nbconvert_exporter": "python",
   "pygments_lexer": "ipython3",
   "version": "3.8.5"
  }
 },
 "nbformat": 4,
 "nbformat_minor": 4
}
