{
 "cells": [
  {
   "cell_type": "code",
   "execution_count": 2,
   "metadata": {},
   "outputs": [
    {
     "name": "stdout",
     "output_type": "stream",
     "text": [
      "Результат: {98, 35, 15, 213, 54, 119}\n"
     ]
    }
   ],
   "source": [
    "ids = {\n",
    "'user1': [213, 213, 213, 15, 213],\n",
    "'user2': [54, 54, 119, 119, 119],\n",
    "'user3': [213, 98, 98, 35]\n",
    "}\n",
    "for i in ids:\n",
    "    res = list(ids.values()) #Выбираю значения словаря\n",
    "sum_res = sum(res, []) #Объединяю списки значений в один список\n",
    "print('Результат:', set(sum_res)) #Вывожу множество уникальных значений"
   ]
  },
  {
   "cell_type": "code",
   "execution_count": 41,
   "metadata": {},
   "outputs": [
    {
     "name": "stdout",
     "output_type": "stream",
     "text": [
      "Поисковых запросов, содержащих 3 слов(а): 42.86 %\n",
      "Поисковых запросов, содержащих 4 слов(а): 14.29 %\n",
      "Поисковых запросов, содержащих 2 слов(а): 28.57 %\n",
      "Поисковых запросов, содержащих 6 слов(а): 14.29 %\n"
     ]
    }
   ],
   "source": [
    "queries = [\n",
    "'смотреть сериалы онлайн',\n",
    "'новости спорта sdd sd',\n",
    "'афиша кино',\n",
    "'курс доллара',\n",
    "'сериалы этим летом dsa sds ds',\n",
    "'курс по питону',\n",
    "'сериалы про спорт',\n",
    "]\n",
    "dict_1 = {} #Создаю два пустых словаря\n",
    "dict_2 = {}\n",
    "avr = len(queries) #Считаю количество значений в исходном списке\n",
    "for words in queries:\n",
    "    res = words.split(' ') #Разделяю каждое значение списка на отдельные слова\n",
    "    dict_1 = {len(res) : 1} #Записываю каждое разделенное значение в первый словарь. Ключ - количество слов, значение ставлю единуцу\n",
    "    for i in dict_1.keys():\n",
    "        if i in dict_2.keys(): #Если ключ с таким количеством слов есть, добавляю к значению 1\n",
    "            dict_2[i] += 1\n",
    "        else: \n",
    "            dict_2[i] = 1 #Если такого ключа с таким количеством слов нет, записываю\n",
    "for key, value in dict_2.items():\n",
    "    print('Поисковых запросов, содержащих', key, 'слов(а):', round((value / avr * 100), 2), '%')"
   ]
  },
  {
   "cell_type": "code",
   "execution_count": 27,
   "metadata": {},
   "outputs": [
    {
     "data": {
      "text/plain": [
       "{'vk': {'revenue': 103, 'cost': 98, 'ROI': [5.1]},\n",
       " 'yandex': {'revenue': 179, 'cost': 153, 'ROI': [16.99]},\n",
       " 'facebook': {'revenue': 103, 'cost': 110, 'ROI': [-6.36]},\n",
       " 'adwords': {'revenue': 35, 'cost': 34, 'ROI': [2.94]},\n",
       " 'twitter': {'revenue': 11, 'cost': 24, 'ROI': [-54.17]}}"
      ]
     },
     "execution_count": 27,
     "metadata": {},
     "output_type": "execute_result"
    }
   ],
   "source": [
    "results = {\n",
    "'vk': {'revenue': 103, 'cost': 98},\n",
    "'yandex': {'revenue': 179, 'cost': 153},\n",
    "'facebook': {'revenue': 103, 'cost': 110},\n",
    "'adwords': {'revenue': 35, 'cost': 34},\n",
    "'twitter': {'revenue': 11, 'cost': 24},\n",
    "}\n",
    "for value in results.values(): #Беру значения словаря\n",
    "    roi = round(((value['revenue'] / value['cost'] - 1) * 100), 2) #Считаю значение roi использую значения словарей\n",
    "    value.setdefault('ROI', [roi]) #Записываю roi в исходный словарь\n",
    "results"
   ]
  },
  {
   "cell_type": "code",
   "execution_count": 14,
   "metadata": {},
   "outputs": [
    {
     "name": "stdout",
     "output_type": "stream",
     "text": [
      "Максимальный объем продаж на рекламном канале: vk\n"
     ]
    }
   ],
   "source": [
    "stats = {\n",
    "'facebook': 55, \n",
    "'yandex': 115, \n",
    "'vk': 120, \n",
    "'google': 99, \n",
    "'email': 42, \n",
    "'ok': 98}\n",
    "print('Максимальный объем продаж на рекламном канале:', max(stats.keys(), key=(lambda k: stats[k])))"
   ]
  },
  {
   "cell_type": "code",
   "execution_count": 6,
   "metadata": {},
   "outputs": [
    {
     "name": "stdout",
     "output_type": "stream",
     "text": [
      "{'2018-01-01': {'yandex': {'cpc': 100}}}\n"
     ]
    }
   ],
   "source": [
    "my_list = ['2018-01-01', 'yandex', 'cpc', 100]\n",
    "my_list_rev = list(reversed(my_list)) #Делаю обратный список\n",
    "dict_1 = {my_list_rev[1]: my_list_rev[0]} #Создаю словарь с 1 и 2 значением обратного списка\n",
    "for i in range(2, len(my_list_rev)): #Иду по обратному списку не учитывая первые два значения\n",
    "    dict_1 = {my_list_rev[i]: dict_1} #Перезаписываю словарь предыдущей итерации в значение словаря\n",
    "print(dict_1)"
   ]
  },
  {
   "cell_type": "code",
   "execution_count": 35,
   "metadata": {},
   "outputs": [
    {
     "name": "stdout",
     "output_type": "stream",
     "text": [
      "Введите количество порций: 5\n",
      "сыр 350 гр\n",
      "томаты 10 шт\n",
      "огурцы 100 гр\n",
      "маслины 50 гр\n",
      "оливковое масло 100 мл\n",
      "салат 50 гр\n",
      "перец 100 гр\n",
      "колбаса 150 гр\n",
      "бекон 150 гр\n",
      "оливки 50 гр\n",
      "томаты 100 гр\n",
      "тесто 500 гр\n",
      "лимон 5 шт\n",
      "вода 1000 мл\n",
      "сахар 50 гр\n",
      "лайм 100 гр\n"
     ]
    }
   ],
   "source": [
    "cook_book = {\n",
    "'салат': [\n",
    "{'ingridient_name': 'сыр', 'quantity': 50, 'measure': 'гр'},\n",
    "{'ingridient_name': 'томаты', 'quantity': 2, 'measure': 'шт'},\n",
    "{'ingridient_name': 'огурцы', 'quantity': 20, 'measure': 'гр'},\n",
    "{'ingridient_name': 'маслины', 'quantity': 10, 'measure': 'гр'},\n",
    "{'ingridient_name': 'оливковое масло', 'quantity': 20, 'measure': 'мл'},\n",
    "{'ingridient_name': 'салат', 'quantity': 10, 'measure': 'гр'},\n",
    "{'ingridient_name': 'перец', 'quantity': 20, 'measure': 'гр'}\n",
    "],\n",
    "'пицца': [\n",
    "{'ingridient_name': 'сыр', 'quantity': 20, 'measure': 'гр'},\n",
    "{'ingridient_name': 'колбаса', 'quantity': 30, 'measure': 'гр'},\n",
    "{'ingridient_name': 'бекон', 'quantity': 30, 'measure': 'гр'},\n",
    "{'ingridient_name': 'оливки', 'quantity': 10, 'measure': 'гр'},\n",
    "{'ingridient_name': 'томаты', 'quantity': 20, 'measure': 'гр'},\n",
    "{'ingridient_name': 'тесто', 'quantity': 100, 'measure': 'гр'},\n",
    "],\n",
    "'лимонад': [\n",
    "{'ingridient_name': 'лимон', 'quantity': 1, 'measure': 'шт'},\n",
    "{'ingridient_name': 'вода', 'quantity': 200, 'measure': 'мл'},\n",
    "{'ingridient_name': 'сахар', 'quantity': 10, 'measure': 'гр'},\n",
    "{'ingridient_name': 'лайм', 'quantity': 20, 'measure': 'гр'},\n",
    "]\n",
    "}\n",
    "number = int(input('Введите количество порций: ')) #Ввод\n",
    "dict_1 = {} #Создаю пустой словарь, куда будут перемещены ингредиенты, вес и размерность\n",
    "for meal in cook_book.values(): #Беру значения словаря, в которых перечисленны ингридиенты\n",
    "    for ing in meal: #Иду по спискам ингредиентов\n",
    "        if (ing['ingridient_name'], ing['measure']) not in dict_1: #Если ключей нет в новом словаре, делаю новую запись\n",
    "            dict_1[(ing['ingridient_name'], ing['measure'])] = {'quantity': ing['quantity'] * number}\n",
    "        else:\n",
    "            dict_1[(ing['ingridient_name'], ing['measure'])]['quantity'] += ing['quantity'] * number #Или добавляю новые значения\n",
    "for name, i in dict_1.items():\n",
    "    print(f'{name[0]} {i[\"quantity\"]} {name[1]}') #Вывод"
   ]
  }
 ],
 "metadata": {
  "kernelspec": {
   "display_name": "Python 3",
   "language": "python",
   "name": "python3"
  },
  "language_info": {
   "codemirror_mode": {
    "name": "ipython",
    "version": 3
   },
   "file_extension": ".py",
   "mimetype": "text/x-python",
   "name": "python",
   "nbconvert_exporter": "python",
   "pygments_lexer": "ipython3",
   "version": "3.8.5"
  }
 },
 "nbformat": 4,
 "nbformat_minor": 4
}
