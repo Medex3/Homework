{
 "cells": [
  {
   "cell_type": "code",
   "execution_count": 2,
   "metadata": {},
   "outputs": [
    {
     "name": "stdout",
     "output_type": "stream",
     "text": [
      "Результат: {98, 35, 15, 213, 54, 119}\n"
     ]
    }
   ],
   "source": [
    "ids = {\n",
    "'user1': [213, 213, 213, 15, 213],\n",
    "'user2': [54, 54, 119, 119, 119],\n",
    "'user3': [213, 98, 98, 35]\n",
    "}\n",
    "for i in ids:\n",
    "    res = list(ids.values()) #Выбираю значения словаря\n",
    "sum_res = sum(res, []) #Объединяю списки значений в один список\n",
    "print('Результат:', set(sum_res)) #Вывожу множество уникальных значений"
   ]
  },
  {
   "cell_type": "code",
   "execution_count": 3,
   "metadata": {},
   "outputs": [
    {
     "name": "stdout",
     "output_type": "stream",
     "text": [
      "Поисковых запросов, содержащих 2 слов(а): 42.86 %\n",
      "Поисковых запросов, содержащих 3 слов(а): 57.14 %\n"
     ]
    }
   ],
   "source": [
    "queries = [\n",
    "'смотреть сериалы онлайн',\n",
    "'новости спорта',\n",
    "'афиша кино',\n",
    "'курс доллара',\n",
    "'сериалы этим летом',\n",
    "'курс по питону',\n",
    "'сериалы про спорт',\n",
    "]\n",
    "search_2_words = 0 #Ввожу две переменные для счетчиков\n",
    "search_3_words = 0\n",
    "for i in queries:\n",
    "    res = i.split(' ') #Делю каждый элемент на отдельные по пробелу\n",
    "    if len(res) == 2: #Условие 2 слов\n",
    "        search_2_words += 1 #Увеличение счетчика\n",
    "    else:\n",
    "        search_3_words += 1 #Условие 3 слов и увеличение счетчика\n",
    "sum_queries = len(queries) #Сумма всех элементов в изначальном списке\n",
    "print('Поисковых запросов, содержащих 2 слов(а):', round((search_2_words / sum_queries * 100), 2), '%')\n",
    "print('Поисковых запросов, содержащих 3 слов(а):', round((search_3_words / sum_queries * 100), 2), '%')"
   ]
  },
  {
   "cell_type": "code",
   "execution_count": 27,
   "metadata": {},
   "outputs": [
    {
     "data": {
      "text/plain": [
       "{'vk': {'revenue': 103, 'cost': 98, 'ROI': [5.1]},\n",
       " 'yandex': {'revenue': 179, 'cost': 153, 'ROI': [16.99]},\n",
       " 'facebook': {'revenue': 103, 'cost': 110, 'ROI': [-6.36]},\n",
       " 'adwords': {'revenue': 35, 'cost': 34, 'ROI': [2.94]},\n",
       " 'twitter': {'revenue': 11, 'cost': 24, 'ROI': [-54.17]}}"
      ]
     },
     "execution_count": 27,
     "metadata": {},
     "output_type": "execute_result"
    }
   ],
   "source": [
    "results = {\n",
    "'vk': {'revenue': 103, 'cost': 98},\n",
    "'yandex': {'revenue': 179, 'cost': 153},\n",
    "'facebook': {'revenue': 103, 'cost': 110},\n",
    "'adwords': {'revenue': 35, 'cost': 34},\n",
    "'twitter': {'revenue': 11, 'cost': 24},\n",
    "}\n",
    "for value in results.values(): #Беру значения словаря\n",
    "    roi = round(((value['revenue'] / value['cost'] - 1) * 100), 2) #Считаю значение roi использую значения словарей\n",
    "    value.setdefault('ROI', [roi]) #Записываю roi в исходный словарь\n",
    "results"
   ]
  },
  {
   "cell_type": "code",
   "execution_count": 5,
   "metadata": {},
   "outputs": [
    {
     "name": "stdout",
     "output_type": "stream",
     "text": [
      "Максимальный объем продаж на рекламном канале: vk\n"
     ]
    }
   ],
   "source": [
    "stats = {\n",
    "'facebook': 55, \n",
    "'yandex': 115, \n",
    "'vk': 120, \n",
    "'google': 99, \n",
    "'email': 42, \n",
    "'ok': 98}\n",
    "max_stats = [max(stats.items(), key = lambda k_v: k_v[1])]\n",
    "for i in max_stats:\n",
    "    print('Максимальный объем продаж на рекламном канале:', i[0])\n"
   ]
  },
  {
   "cell_type": "code",
   "execution_count": 6,
   "metadata": {},
   "outputs": [
    {
     "name": "stdout",
     "output_type": "stream",
     "text": [
      "{'2018-01-01': {'yandex': {'cpc': 100}}}\n"
     ]
    }
   ],
   "source": [
    "my_list = ['2018-01-01', 'yandex', 'cpc', 100]\n",
    "my_list_rev = list(reversed(my_list)) #Делаю обратный список\n",
    "dict_1 = {my_list_rev[1]: my_list_rev[0]} #Создаю словарь с 1 и 2 значением обратного списка\n",
    "for i in range(2, len(my_list_rev)): #Иду по обратному списку не учитывая первые два значения\n",
    "    dict_1 = {my_list_rev[i]: dict_1} #Перезаписываю словарь предыдущей итерации в значение словаря\n",
    "print(dict_1)"
   ]
  },
  {
   "cell_type": "code",
   "execution_count": 21,
   "metadata": {},
   "outputs": [
    {
     "name": "stdout",
     "output_type": "stream",
     "text": [
      "Введите количество порций: 3\n",
      "бекон : 90 гр\n",
      "вода : 600 мл\n",
      "колбаса : 90 гр\n",
      "лайм : 60 гр\n",
      "лимон : 3 шт\n",
      "маслины : 30 гр\n",
      "огурцы : 60 гр\n",
      "оливки : 30 гр\n",
      "оливковое масло : 60 мл\n",
      "перец : 60 гр\n",
      "салат : 30 гр\n",
      "сахар : 30 гр\n",
      "сыр : 60 гр\n",
      "сыр : 150 гр\n",
      "тесто : 300 гр\n",
      "томаты : 6 шт\n",
      "томаты : 60 гр\n"
     ]
    }
   ],
   "source": [
    "cook_book = {\n",
    "'салат': [\n",
    "{'ingridient_name': 'сыр', 'quantity': 50, 'measure': 'гр'},\n",
    "{'ingridient_name': 'томаты', 'quantity': 2, 'measure': 'шт'},\n",
    "{'ingridient_name': 'огурцы', 'quantity': 20, 'measure': 'гр'},\n",
    "{'ingridient_name': 'маслины', 'quantity': 10, 'measure': 'гр'},\n",
    "{'ingridient_name': 'оливковое масло', 'quantity': 20, 'measure': 'мл'},\n",
    "{'ingridient_name': 'салат', 'quantity': 10, 'measure': 'гр'},\n",
    "{'ingridient_name': 'перец', 'quantity': 20, 'measure': 'гр'}\n",
    "],\n",
    "'пицца': [\n",
    "{'ingridient_name': 'сыр', 'quantity': 20, 'measure': 'гр'},\n",
    "{'ingridient_name': 'колбаса', 'quantity': 30, 'measure': 'гр'},\n",
    "{'ingridient_name': 'бекон', 'quantity': 30, 'measure': 'гр'},\n",
    "{'ingridient_name': 'оливки', 'quantity': 10, 'measure': 'гр'},\n",
    "{'ingridient_name': 'томаты', 'quantity': 20, 'measure': 'гр'},\n",
    "{'ingridient_name': 'тесто', 'quantity': 100, 'measure': 'гр'},\n",
    "],\n",
    "'лимонад': [\n",
    "{'ingridient_name': 'лимон', 'quantity': 1, 'measure': 'шт'},\n",
    "{'ingridient_name': 'вода', 'quantity': 200, 'measure': 'мл'},\n",
    "{'ingridient_name': 'сахар', 'quantity': 10, 'measure': 'гр'},\n",
    "{'ingridient_name': 'лайм', 'quantity': 20, 'measure': 'гр'},\n",
    "]\n",
    "}\n",
    "number = int(input('Введите количество порций: ')) #Ввод\n",
    "list_1 = [] #Создаю пустой список, куда будут перемещены ингредиенты, вес и размерность\n",
    "for meal in cook_book.values(): #Беру значения словаря\n",
    "    for ing in meal: #Иду по спискам ингредиентов\n",
    "        for i in ing: #Беру значения словарей с ингредиентами\n",
    "            list_1.append(list(ing.values())) #Отправляю в отдельный список\n",
    "list_2 = [list_1[i] for i in range(0, len(list_1)) if i == 0 or list_1[i] != list_1[i - 1]] #Убираю повторяющие списки\n",
    "for j in list_2:\n",
    "    j[1] = j[1] * number #Перемножаю вес на количество персон\n",
    "list_2 = sorted(list_2)\n",
    "for k in list_2:\n",
    "    print(k[0], ':', k[1], k[2]) #Вывод\n",
    "#Не смог придумать, как объединить сыр и томаты.\n",
    "#И не понял, почему в решении томатов две строки, а сыра одна?"
   ]
  }
 ],
 "metadata": {
  "kernelspec": {
   "display_name": "Python 3",
   "language": "python",
   "name": "python3"
  },
  "language_info": {
   "codemirror_mode": {
    "name": "ipython",
    "version": 3
   },
   "file_extension": ".py",
   "mimetype": "text/x-python",
   "name": "python",
   "nbconvert_exporter": "python",
   "pygments_lexer": "ipython3",
   "version": "3.8.5"
  }
 },
 "nbformat": 4,
 "nbformat_minor": 4
}
