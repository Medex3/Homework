{
 "cells": [
  {
   "cell_type": "code",
   "execution_count": 245,
   "metadata": {},
   "outputs": [],
   "source": [
    "documents = [\n",
    " {'type': 'passport', 'number': '2207 876234', 'name': 'Василий Гупкин'},\n",
    " {'type': 'invoice', 'number': '11-2', 'name': 'Геннадий Покемонов'},\n",
    " {'type': 'insurance', 'number': '10006', 'name': 'Аристарх Павлов'}\n",
    "]\n",
    "directories = {\n",
    " '1': ['2207 876234', '11-2'],\n",
    " '2': ['10006'],\n",
    " '3': []\n",
    "}"
   ]
  },
  {
   "cell_type": "code",
   "execution_count": 249,
   "metadata": {},
   "outputs": [],
   "source": [
    "def common_func():\n",
    "    while True:\n",
    "        func = input('Введите команду:').lower()\n",
    "        if func == 'p':\n",
    "            owner()\n",
    "        elif func == 's':\n",
    "            shelter()\n",
    "        elif func == 'l':\n",
    "            full_info()   \n",
    "        elif func == 'as':\n",
    "            add_shelf(directories)\n",
    "        elif func == 'ds':\n",
    "            del_shelter()\n",
    "        elif func == 'ad':\n",
    "            add_doc()\n",
    "        elif func == 'd':\n",
    "            del_doc()\n",
    "        elif func == 'm':\n",
    "            replace_doc()\n",
    "        elif func == 'q':\n",
    "             break\n",
    "        else: \n",
    "                print('Неизвестная команда')"
   ]
  },
  {
   "cell_type": "code",
   "execution_count": 224,
   "metadata": {},
   "outputs": [],
   "source": [
    "#узнать владельца документа по его номеру\n",
    "def owner():\n",
    "    number = input('Введите номер документа: ')\n",
    "    j = 0 #Сделал счетчик, чтобы не выводить фразу 'Документ не найден' в цикле\n",
    "    for i in documents:\n",
    "        if i['number'] == number:\n",
    "            j += 1\n",
    "            print('Владелец документа:', i['name'])\n",
    "    if j == 0:\n",
    "        print('Документ не найден в базе')"
   ]
  },
  {
   "cell_type": "code",
   "execution_count": 225,
   "metadata": {},
   "outputs": [],
   "source": [
    "#по номеру документа узнать на какой полке он хранится\n",
    "def shelter():\n",
    "    number = input('Введите номер документа: ')\n",
    "    j = 0 #Сделал счетчик, чтобы не выводить фразу 'Документ не найден' в цикле\n",
    "    for shel, num in directories.items():\n",
    "        if number in num:\n",
    "            j += 1\n",
    "            print('Документ хранится на полке:', shel)\n",
    "    if j == 0:\n",
    "        print('Документ не найден в базе')"
   ]
  },
  {
   "cell_type": "code",
   "execution_count": 226,
   "metadata": {},
   "outputs": [],
   "source": [
    "#увидеть полную информацию по всем документам\n",
    "def full_info():\n",
    "    for i in documents:\n",
    "        for shel, num in directories.items():\n",
    "            if i['number'] in num:\n",
    "                print('№:', i['number'], ', тип:', i['type'], ', владелец:', i['name'], ', полка хранения:', shel)"
   ]
  },
  {
   "cell_type": "code",
   "execution_count": 227,
   "metadata": {},
   "outputs": [],
   "source": [
    "#добавить новую полку\n",
    "def add_shelf(dirs):\n",
    "    shelter = input('Введите номер полки: ')\n",
    "    if shelter in dirs.keys():\n",
    "        res = f'Такая полка уже существует. Текущий перечень полок: {\", \".join(dirs.keys())}.'\n",
    "        print(res)\n",
    "    else:\n",
    "        dirs.setdefault(shelter, [])\n",
    "        res = f'Полка добавлена. Текущий перечень полок: {\", \".join(dirs.keys())}.'\n",
    "        print(res)"
   ]
  },
  {
   "cell_type": "code",
   "execution_count": 238,
   "metadata": {},
   "outputs": [
    {
     "name": "stdout",
     "output_type": "stream",
     "text": [
      "Введите номер полки: 4\n",
      "Такой полки не существует. Текущий перечень полок: 1, 2, 3.\n"
     ]
    }
   ],
   "source": [
    "#удалить существующую полку из данных (только если она пустая)\n",
    "def del_shelter():\n",
    "    shelter = input('Введите номер полки: ')\n",
    "    j = 0 \n",
    "    for shel, num in directories.items():\n",
    "        if shelter == shel:\n",
    "            j += 1\n",
    "            if num == []:\n",
    "                del directories[shelter]\n",
    "                res = f'Полка удалена. Текущий перечень полок: {\", \".join(directories.keys())}.'\n",
    "                print(res)\n",
    "                break #Если не прервать, выскакивает ошибка, т.к. изменился размер словаря\n",
    "            else:\n",
    "                res = f'На полке есть документы, удалите их перед удалением полки. Текущий перечень полок: {\", \".join(directories.keys())}.' \n",
    "                print(res)\n",
    "    if j == 0:\n",
    "        res = f'Такой полки не существует. Текущий перечень полок: {\", \".join(directories.keys())}.'\n",
    "        print(res)\n",
    "del_shelter()"
   ]
  },
  {
   "cell_type": "code",
   "execution_count": 230,
   "metadata": {},
   "outputs": [],
   "source": [
    "#добавить новый документ в данные\n",
    "def add_doc():\n",
    "    list_documents = []\n",
    "    dict_new = {}\n",
    "    type_1 = input('Введите тип документа: ')\n",
    "    dict_new['type'] = type_1\n",
    "    number = input('Введите номер документа: ')\n",
    "    dict_new['number'] = number\n",
    "    name = input('Введите владельца документа: ')\n",
    "    dict_new['name'] = name\n",
    "    shelter = input('Введите полку для хранения: ')\n",
    "    list_documents.append(dict_new)\n",
    "    if shelter in directories.keys():\n",
    "        documents.append(list_documents[0])\n",
    "        print()\n",
    "        print('Документ добавлен. Текущий список документов:')\n",
    "    else:\n",
    "        print()\n",
    "        print('Такой полки не существует. Добавьте полку командой as.')\n",
    "        print('Текущий список документов:')\n",
    "    for shel, num in directories.items():\n",
    "        if shelter == shel:\n",
    "            num.append(number)\n",
    "    full_info()"
   ]
  },
  {
   "cell_type": "code",
   "execution_count": 231,
   "metadata": {},
   "outputs": [],
   "source": [
    "#удалить документ из данных\n",
    "def del_doc():\n",
    "    number = input('Введите номер документа: ')\n",
    "    for i in documents:\n",
    "        if number == i['number']:\n",
    "            documents.remove(i)\n",
    "            print('Документ удален.')\n",
    "            print('Текущий список документов:')\n",
    "            for num in directories.values():\n",
    "                if number in num:\n",
    "                    num.remove(number)\n",
    "            full_info()\n",
    "            break #Если не преравить, будет и дальше проверять по циклу и выведет 'Документ не найден'\n",
    "    else:\n",
    "        print('Документ не найден в базе.')\n",
    "        print('Текущий список документов:')\n",
    "        full_info()"
   ]
  },
  {
   "cell_type": "code",
   "execution_count": 243,
   "metadata": {},
   "outputs": [],
   "source": [
    "#переместить документ с полки на полку\n",
    "def replace_doc():\n",
    "    number = input('Введите номер документа: ')\n",
    "    shelter = input('Введите номер полки: ')\n",
    "    j = 0\n",
    "    k = 0\n",
    "    for i in documents:\n",
    "        if number == i['number']:\n",
    "            j+= 1\n",
    "    for shel, num in directories.items():\n",
    "        if shelter in shel:\n",
    "            k += 1 \n",
    "    if j == 1 and k == 1:\n",
    "        for shel, num in directories.items():\n",
    "            num.remove(number)\n",
    "            break\n",
    "        for shel, num in directories.items():\n",
    "            if shelter == shel:\n",
    "                num.append(number)\n",
    "        print('Документ перемещен.')\n",
    "        print('Текущий список документов:')\n",
    "        full_info()\n",
    "    if j == 0:\n",
    "        print('Документ не найден в базе. ')\n",
    "        print('Текущий список документов:')\n",
    "        full_info()\n",
    "    elif k == 0:\n",
    "        res = f'Такой полки не существует. Текущий перечень полок: {\", \".join(directories.keys())}.'\n",
    "        print(res)"
   ]
  },
  {
   "cell_type": "code",
   "execution_count": 250,
   "metadata": {},
   "outputs": [
    {
     "name": "stdout",
     "output_type": "stream",
     "text": [
      "Введите команду:l\n",
      "№: 2207 876234 , тип: passport , владелец: Василий Гупкин , полка хранения: 1\n",
      "№: 11-2 , тип: invoice , владелец: Геннадий Покемонов , полка хранения: 1\n",
      "№: 10006 , тип: insurance , владелец: Аристарх Павлов , полка хранения: 2\n",
      "Введите команду:q\n"
     ]
    }
   ],
   "source": [
    "common_func()"
   ]
  }
 ],
 "metadata": {
  "kernelspec": {
   "display_name": "Python 3",
   "language": "python",
   "name": "python3"
  },
  "language_info": {
   "codemirror_mode": {
    "name": "ipython",
    "version": 3
   },
   "file_extension": ".py",
   "mimetype": "text/x-python",
   "name": "python",
   "nbconvert_exporter": "python",
   "pygments_lexer": "ipython3",
   "version": "3.8.5"
  }
 },
 "nbformat": 4,
 "nbformat_minor": 4
}
